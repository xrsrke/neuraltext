{
 "cells": [
  {
   "attachments": {},
   "cell_type": "markdown",
   "metadata": {},
   "source": [
    "# Util Functions\n",
    "\n",
    "> Fill in a module description here"
   ]
  },
  {
   "cell_type": "code",
   "execution_count": null,
   "metadata": {},
   "outputs": [],
   "source": [
    "# | default_exp utils"
   ]
  },
  {
   "cell_type": "code",
   "execution_count": null,
   "metadata": {},
   "outputs": [],
   "source": [
    "# | hide\n",
    "from nbdev.showdoc import *"
   ]
  },
  {
   "cell_type": "code",
   "execution_count": null,
   "metadata": {},
   "outputs": [],
   "source": [
    "#| hide\n",
    "import nbdev; nbdev.nbdev_export()"
   ]
  },
  {
   "cell_type": "code",
   "execution_count": null,
   "metadata": {},
   "outputs": [],
   "source": [
    "#| export\n",
    "import scipy\n",
    "import yaml"
   ]
  },
  {
   "cell_type": "code",
   "execution_count": null,
   "metadata": {},
   "outputs": [],
   "source": [
    "#| export\n",
    "def mat2dict(\n",
    "    path: str # the path to the .mat file\n",
    ") -> dict: # a dictionary containing the data\n",
    "    data = scipy.io.loadmat(path)\n",
    "    data = {k: v for k, v in data.items() if not k.startswith(\"__\")}\n",
    "    \n",
    "    return data"
   ]
  },
  {
   "cell_type": "code",
   "execution_count": null,
   "metadata": {},
   "outputs": [],
   "source": [
    "#| export\n",
    "def yaml2dict(path: str) -> dict:\n",
    "    with open(path, 'r') as f:\n",
    "        data = yaml.safe_load(f)\n",
    "    return data"
   ]
  },
  {
   "attachments": {},
   "cell_type": "markdown",
   "metadata": {},
   "source": [
    "### Dataset"
   ]
  },
  {
   "cell_type": "code",
   "execution_count": null,
   "metadata": {},
   "outputs": [],
   "source": [
    "#| export\n",
    "def get_character_data_from_a_trial(path: str, trial: int) -> dict:\n",
    "    assert trial >= 0, \"trial must be a positive integer\"\n",
    "    def extract_letters(x, prefix = \"neuralActivityCube_\"):\n",
    "        return x[len(prefix):] if x.startswith(prefix) else x\n",
    "    \n",
    "    data = mat2dict(path)    \n",
    "    trial_data = {extract_letters(key): data[key][trial] for key in data.keys() if key.startswith(\"neuralActivityCube_\")}\n",
    "    del trial_data[\"doNothing\"]\n",
    "    return trial_data"
   ]
  }
 ],
 "metadata": {
  "kernelspec": {
   "display_name": "env",
   "language": "python",
   "name": "python3"
  }
 },
 "nbformat": 4,
 "nbformat_minor": 2
}
