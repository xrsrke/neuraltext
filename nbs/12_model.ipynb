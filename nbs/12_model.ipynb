{
 "cells": [
  {
   "attachments": {},
   "cell_type": "markdown",
   "metadata": {},
   "source": [
    "# Model\n",
    "\n",
    "> Fill in a module description here"
   ]
  },
  {
   "cell_type": "code",
   "execution_count": null,
   "metadata": {},
   "outputs": [],
   "source": [
    "# | default_exp model"
   ]
  },
  {
   "cell_type": "code",
   "execution_count": null,
   "metadata": {},
   "outputs": [],
   "source": [
    "# | hide\n",
    "from nbdev.showdoc import *"
   ]
  },
  {
   "cell_type": "code",
   "execution_count": null,
   "metadata": {},
   "outputs": [],
   "source": [
    "#| hide\n",
    "import nbdev; nbdev.nbdev_export()"
   ]
  },
  {
   "cell_type": "code",
   "execution_count": null,
   "metadata": {},
   "outputs": [],
   "source": [
    "#| export\n",
    "from typing import Optional, Tuple\n",
    "\n",
    "import torch\n",
    "import torch.nn as nn\n",
    "from torchtyping import TensorType"
   ]
  },
  {
   "cell_type": "code",
   "execution_count": null,
   "metadata": {},
   "outputs": [],
   "source": [
    "#| export\n",
    "class RNN(nn.Module):\n",
    "    \"\"\"The Decoder Neural Signal.\"\"\"\n",
    "    def __init__(\n",
    "        self, input_size: int, hidden_size: int, output_size: int, slow_frequency: int = 100\n",
    "    ):\n",
    "        super().__init__()\n",
    "        self.hidden_size = hidden_size\n",
    "        self.slow_frequency = slow_frequency\n",
    "\n",
    "        self.gru1 = nn.GRU(input_size, hidden_size)\n",
    "        self.gru2 = nn.GRU(hidden_size, output_size)\n",
    "        self.zt = nn.Linear(hidden_size, 1)\n",
    "\n",
    "    def forward(\n",
    "        self,\n",
    "        x: torch.Tensor, hidden: Optional[torch.Tensor] = None\n",
    "    ) -> Tuple[\n",
    "        torch.Tensor,\n",
    "        torch.Tensor,\n",
    "        torch.Tensor\n",
    "    ]:\n",
    "        \"\"\"The forward pass.\"\"\"\n",
    "        gru1_out, hidden = self.gru1(x, hidden)\n",
    "        gru2_out = self.gru2(gru1_out)[0][::self.slow_frequency]\n",
    "        zt_out = torch.sigmoid(self.zt(hidden[0]))\n",
    "        return gru2_out, zt_out, hidden"
   ]
  },
  {
   "cell_type": "code",
   "execution_count": null,
   "metadata": {},
   "outputs": [
    {
     "data": {
      "text/markdown": [
       "---\n",
       "\n",
       "[source](https://github.com/xrsrke/neuraltext/blob/main/neuraltext/model.py#L26){target=\"_blank\" style=\"float:right; font-size:smaller\"}\n",
       "\n",
       "### RNN.forward\n",
       "\n",
       ">      RNN.forward (x:torch.Tensor, hidden:Optional[torch.Tensor]=None)\n",
       "\n",
       "The forward pass."
      ],
      "text/plain": [
       "---\n",
       "\n",
       "[source](https://github.com/xrsrke/neuraltext/blob/main/neuraltext/model.py#L26){target=\"_blank\" style=\"float:right; font-size:smaller\"}\n",
       "\n",
       "### RNN.forward\n",
       "\n",
       ">      RNN.forward (x:torch.Tensor, hidden:Optional[torch.Tensor]=None)\n",
       "\n",
       "The forward pass."
      ]
     },
     "execution_count": null,
     "metadata": {},
     "output_type": "execute_result"
    }
   ],
   "source": [
    "show_doc(RNN.forward)"
   ]
  }
 ],
 "metadata": {
  "kernelspec": {
   "display_name": "env",
   "language": "python",
   "name": "python3"
  }
 },
 "nbformat": 4,
 "nbformat_minor": 2
}
