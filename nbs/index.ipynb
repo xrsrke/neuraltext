{
 "cells": [
  {
   "cell_type": "code",
   "execution_count": null,
   "metadata": {},
   "outputs": [],
   "source": [
    "#| hide\n",
    "from neuraltext.core import *"
   ]
  },
  {
   "attachments": {},
   "cell_type": "markdown",
   "metadata": {},
   "source": [
    "# NeuralText - 🚧 WORK IN PROGRESS 🚧\n",
    "\n",
    "> Decoding speech-related neural activity into text"
   ]
  },
  {
   "attachments": {},
   "cell_type": "markdown",
   "metadata": {},
   "source": [
    "Paper: [High-performance brain-to-text communication via handwriting](https://www.nature.com/articles/s41586-021-03506-2)\n",
    "\n",
    "I'm currently working towards this paper. Check out my learning progress here: https://twitter.com/xariusrke/status/1621403313651728386 "
   ]
  }
 ],
 "metadata": {
  "kernelspec": {
   "display_name": "Python 3",
   "language": "python",
   "name": "python3"
  }
 },
 "nbformat": 4,
 "nbformat_minor": 4
}
